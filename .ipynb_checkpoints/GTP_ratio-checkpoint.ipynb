{
 "cells": [
  {
   "cell_type": "markdown",
   "metadata": {},
   "source": [
    "# Using thermodynamic analysis to guide metabolic engineering\n",
    "DO 12-6-2018  \n",
    "Using Python 3 and eQuilibrator API  \n"
   ]
  },
  {
   "cell_type": "code",
   "execution_count": 1,
   "metadata": {},
   "outputs": [],
   "source": [
    "#Changing directory to the github home folder /Ctherm_thermo\n",
    "import os\n",
    "os.chdir('/Users/satyakam/Dropbox/work/equilibrator-api-master')\n",
    "import sys\n",
    "sys.path.append('/Users/satyakam/Dropbox/work/sbtab-0.9.64')\n",
    "sys.path.append('/Users/satyakam/Dropbox/work/equilibrator-api-master/src')"
   ]
  },
  {
   "cell_type": "code",
   "execution_count": 2,
   "metadata": {},
   "outputs": [],
   "source": [
    "import numpy as np\n",
    "from numpy import array, eye, log, zeros, matrix\n",
    "from numpy.linalg import inv, solve\n",
    "import pandas as pd\n",
    "from equilibrator_api import Reaction, ComponentContribution, ReactionMatcher, CompoundMatcher, ParseError, Pathway\n",
    "from equilibrator_api.bounds import Bounds\n",
    "%matplotlib inline"
   ]
  },
  {
   "cell_type": "markdown",
   "metadata": {},
   "source": [
    "## Set up translator for KEGG IDs\n",
    "Note: I set these up as dataframes because I was troubleshooting an issue with duplicate KEGG IDs. Eventually I think these should be set up as dictionaries, to make the code more readable"
   ]
  },
  {
   "cell_type": "code",
   "execution_count": 3,
   "metadata": {},
   "outputs": [],
   "source": [
    "# make a dictionary to translate KEGG IDs into human-readable abbreviations\n",
    "keggTranslatorDf = pd.read_excel('KEGG_SEED_DO.xls')\n",
    "kt = keggTranslatorDf #short name for easier typing\n",
    "\n",
    "# translate KEGG ID to long name\n",
    "ktn = kt.loc[:,['KEGG ID(S)', 'PRIMARY NAME']]\n",
    "ktn['KEGG ID(S)'] = ktn['KEGG ID(S)'].str.lower() # set to lower case for better matching\n",
    "ktn.set_index('KEGG ID(S)', inplace = True)\n",
    "\n",
    "# translate long name to KEGG ID\n",
    "# the original dictionaries sometimes had trouble with duplicate KEGG IDs. If there are duplicates, make sure to choose the lowest number\n",
    "ntk = kt.loc[:,['PRIMARY NAME', 'KEGG ID(S)']].sort_values(by = ['KEGG ID(S)'], ascending = True)\n",
    "ntk['PRIMARY NAME'] = ntk['PRIMARY NAME'].str.lower() # set to lower case for better matching\n",
    "ntk = ntk.groupby('PRIMARY NAME').first() # take the first KEGG ID in each group\n",
    "\n",
    "# translate KEGG ID to abbreviation\n",
    "kta = kt.loc[:,['KEGG ID(S)', 'ABBREVIATION']]\n",
    "kta['KEGG ID(S)'] = kta['KEGG ID(S)'].str.lower() # set to lower case for better matching\n",
    "kta.set_index('KEGG ID(S)', inplace = True)\n",
    "\n",
    "# translate abbreviation to KEGG ID\n",
    "atk = kt.loc[:,['ABBREVIATION', 'KEGG ID(S)']]\n",
    "atk['ABBREVIATION'] = atk['ABBREVIATION'].str.lower() # set to lower case for better matching\n",
    "atk.set_index('ABBREVIATION', inplace = True)\n",
    "\n",
    "atkDict = dict(zip(kt['ABBREVIATION'].values, kt['KEGG ID(S)'].values))"
   ]
  },
  {
   "cell_type": "markdown",
   "metadata": {},
   "source": [
    "## Set up model\n",
    "* Choose reactions\n",
    "* Set fluxes\n",
    "* Set concentration bounds\n",
    "* Set pH and ionic strength"
   ]
  },
  {
   "cell_type": "code",
   "execution_count": 4,
   "metadata": {},
   "outputs": [
    {
     "data": {
      "text/html": [
       "<div>\n",
       "<style scoped>\n",
       "    .dataframe tbody tr th:only-of-type {\n",
       "        vertical-align: middle;\n",
       "    }\n",
       "\n",
       "    .dataframe tbody tr th {\n",
       "        vertical-align: top;\n",
       "    }\n",
       "\n",
       "    .dataframe thead th {\n",
       "        text-align: right;\n",
       "    }\n",
       "</style>\n",
       "<table border=\"1\" class=\"dataframe\">\n",
       "  <thead>\n",
       "    <tr style=\"text-align: right;\">\n",
       "      <th></th>\n",
       "      <th>Name</th>\n",
       "      <th>PlaintextFormula</th>\n",
       "      <th>AbbreviationFormula</th>\n",
       "      <th>KeggFormula</th>\n",
       "      <th>Notes</th>\n",
       "      <th>flux1</th>\n",
       "      <th>flux2</th>\n",
       "      <th>flux3</th>\n",
       "      <th>flux4</th>\n",
       "    </tr>\n",
       "  </thead>\n",
       "  <tbody>\n",
       "    <tr>\n",
       "      <th>0</th>\n",
       "      <td>CBtx</td>\n",
       "      <td>H2O + ATP &lt;=&gt; ADP + Phosphate</td>\n",
       "      <td>h2o + atp &lt;=&gt; adp + pi</td>\n",
       "      <td>C00001 + C00002 &lt;=&gt; C00008 + C00009</td>\n",
       "      <td>ATP hydrolysis for cellobiose transport</td>\n",
       "      <td>1</td>\n",
       "      <td>1</td>\n",
       "      <td>1</td>\n",
       "      <td>1</td>\n",
       "    </tr>\n",
       "    <tr>\n",
       "      <th>1</th>\n",
       "      <td>CBP</td>\n",
       "      <td>Phosphate + Cellobiose &lt;=&gt; D-Glucose + Glucose...</td>\n",
       "      <td>pi + cellb &lt;=&gt; glc-D + g1p</td>\n",
       "      <td>C00009 + C00185 &lt;=&gt; C00031 + C00103</td>\n",
       "      <td>NaN</td>\n",
       "      <td>1</td>\n",
       "      <td>1</td>\n",
       "      <td>1</td>\n",
       "      <td>1</td>\n",
       "    </tr>\n",
       "    <tr>\n",
       "      <th>2</th>\n",
       "      <td>GLK</td>\n",
       "      <td>D-Glucose + GTP &lt;=&gt; D-Glucose-6-phosphate + GDP</td>\n",
       "      <td>glc-D + gtp &lt;=&gt; g6p + gdp</td>\n",
       "      <td>C00031 + C00044 &lt;=&gt; C00092 + C00035</td>\n",
       "      <td>NaN</td>\n",
       "      <td>1</td>\n",
       "      <td>1</td>\n",
       "      <td>1</td>\n",
       "      <td>1</td>\n",
       "    </tr>\n",
       "    <tr>\n",
       "      <th>3</th>\n",
       "      <td>PGMT</td>\n",
       "      <td>Glucose-1-phosphate &lt;=&gt; D-glucose-6-phosphate</td>\n",
       "      <td>g1p &lt;=&gt; g6p</td>\n",
       "      <td>C00103 &lt;=&gt; C00092</td>\n",
       "      <td>NaN</td>\n",
       "      <td>1</td>\n",
       "      <td>1</td>\n",
       "      <td>1</td>\n",
       "      <td>1</td>\n",
       "    </tr>\n",
       "    <tr>\n",
       "      <th>4</th>\n",
       "      <td>PGI</td>\n",
       "      <td>D-Glucose-6-phosphate &lt;=&gt; D-Fructose-6-phosphate</td>\n",
       "      <td>g6p &lt;=&gt; f6p</td>\n",
       "      <td>C00092 &lt;=&gt; C00085</td>\n",
       "      <td>NaN</td>\n",
       "      <td>2</td>\n",
       "      <td>2</td>\n",
       "      <td>2</td>\n",
       "      <td>2</td>\n",
       "    </tr>\n",
       "  </tbody>\n",
       "</table>\n",
       "</div>"
      ],
      "text/plain": [
       "   Name                                   PlaintextFormula  \\\n",
       "0  CBtx                     H2O + ATP <=> ADP + Phosphate    \n",
       "1   CBP  Phosphate + Cellobiose <=> D-Glucose + Glucose...   \n",
       "2   GLK    D-Glucose + GTP <=> D-Glucose-6-phosphate + GDP   \n",
       "3  PGMT     Glucose-1-phosphate <=> D-glucose-6-phosphate    \n",
       "4   PGI   D-Glucose-6-phosphate <=> D-Fructose-6-phosphate   \n",
       "\n",
       "           AbbreviationFormula                           KeggFormula  \\\n",
       "0      h2o + atp <=> adp + pi   C00001 + C00002 <=> C00008 + C00009    \n",
       "1  pi + cellb <=> glc-D + g1p   C00009 + C00185 <=> C00031 + C00103    \n",
       "2   glc-D + gtp <=> g6p + gdp   C00031 + C00044 <=> C00092 + C00035    \n",
       "3                 g1p <=> g6p                     C00103 <=> C00092    \n",
       "4                 g6p <=> f6p                     C00092 <=> C00085    \n",
       "\n",
       "                                     Notes  flux1  flux2  flux3  flux4  \n",
       "0  ATP hydrolysis for cellobiose transport      1      1      1      1  \n",
       "1                                      NaN      1      1      1      1  \n",
       "2                                      NaN      1      1      1      1  \n",
       "3                                      NaN      1      1      1      1  \n",
       "4                                      NaN      2      2      2      2  "
      ]
     },
     "execution_count": 4,
     "metadata": {},
     "output_type": "execute_result"
    }
   ],
   "source": [
    "allRxnDf = pd.read_excel('cth_thermo_model_DO.xlsx', sheet_name = 'reactions')\n",
    "allRxnDf[:5]"
   ]
  },
  {
   "cell_type": "code",
   "execution_count": 5,
   "metadata": {},
   "outputs": [
    {
     "data": {
      "text/html": [
       "<div>\n",
       "<style scoped>\n",
       "    .dataframe tbody tr th:only-of-type {\n",
       "        vertical-align: middle;\n",
       "    }\n",
       "\n",
       "    .dataframe tbody tr th {\n",
       "        vertical-align: top;\n",
       "    }\n",
       "\n",
       "    .dataframe thead th {\n",
       "        text-align: right;\n",
       "    }\n",
       "</style>\n",
       "<table border=\"1\" class=\"dataframe\">\n",
       "  <thead>\n",
       "    <tr style=\"text-align: right;\">\n",
       "      <th></th>\n",
       "      <th>Name</th>\n",
       "      <th>AbbreviationFormula</th>\n",
       "      <th>KeggFormula</th>\n",
       "      <th>flux</th>\n",
       "    </tr>\n",
       "  </thead>\n",
       "  <tbody>\n",
       "    <tr>\n",
       "      <th>0</th>\n",
       "      <td>CBtx</td>\n",
       "      <td>h2o + atp &lt;=&gt; adp + pi</td>\n",
       "      <td>C00001 + C00002 &lt;=&gt; C00008 + C00009</td>\n",
       "      <td>1</td>\n",
       "    </tr>\n",
       "    <tr>\n",
       "      <th>1</th>\n",
       "      <td>CBP</td>\n",
       "      <td>pi + cellb &lt;=&gt; glc-D + g1p</td>\n",
       "      <td>C00009 + C00185 &lt;=&gt; C00031 + C00103</td>\n",
       "      <td>1</td>\n",
       "    </tr>\n",
       "    <tr>\n",
       "      <th>2</th>\n",
       "      <td>GLK</td>\n",
       "      <td>glc-D + gtp &lt;=&gt; g6p + gdp</td>\n",
       "      <td>C00031 + C00044 &lt;=&gt; C00092 + C00035</td>\n",
       "      <td>1</td>\n",
       "    </tr>\n",
       "    <tr>\n",
       "      <th>3</th>\n",
       "      <td>PGMT</td>\n",
       "      <td>g1p &lt;=&gt; g6p</td>\n",
       "      <td>C00103 &lt;=&gt; C00092</td>\n",
       "      <td>1</td>\n",
       "    </tr>\n",
       "    <tr>\n",
       "      <th>4</th>\n",
       "      <td>PGI</td>\n",
       "      <td>g6p &lt;=&gt; f6p</td>\n",
       "      <td>C00092 &lt;=&gt; C00085</td>\n",
       "      <td>2</td>\n",
       "    </tr>\n",
       "    <tr>\n",
       "      <th>5</th>\n",
       "      <td>PFK-PPi</td>\n",
       "      <td>ppi + f6p &lt;=&gt; pi + fdp + h</td>\n",
       "      <td>C00013 + C00085 &lt;=&gt; C00009 + C00354 + C00080</td>\n",
       "      <td>2</td>\n",
       "    </tr>\n",
       "    <tr>\n",
       "      <th>7</th>\n",
       "      <td>FBA</td>\n",
       "      <td>fdp &lt;=&gt; dhap + g3p</td>\n",
       "      <td>C00354 &lt;=&gt; C00111 + C00118</td>\n",
       "      <td>2</td>\n",
       "    </tr>\n",
       "    <tr>\n",
       "      <th>8</th>\n",
       "      <td>TPI</td>\n",
       "      <td>dhap &lt;=&gt; g3p</td>\n",
       "      <td>C00111 &lt;=&gt; C00118</td>\n",
       "      <td>2</td>\n",
       "    </tr>\n",
       "    <tr>\n",
       "      <th>9</th>\n",
       "      <td>GAPDH</td>\n",
       "      <td>pi + nad + g3p &lt;=&gt; nadh + 13dpg</td>\n",
       "      <td>C00009 + C00003 + C00118 &lt;=&gt; C00004 + C00236</td>\n",
       "      <td>4</td>\n",
       "    </tr>\n",
       "    <tr>\n",
       "      <th>12</th>\n",
       "      <td>PGK-GTP</td>\n",
       "      <td>gdp + 13dpg &lt;=&gt; gtp + 3pg</td>\n",
       "      <td>C00035 + C00236 &lt;=&gt; C00044 + C00197</td>\n",
       "      <td>4</td>\n",
       "    </tr>\n",
       "    <tr>\n",
       "      <th>13</th>\n",
       "      <td>PGM</td>\n",
       "      <td>3pg &lt;=&gt; 2pg</td>\n",
       "      <td>C00197 &lt;=&gt; C00631</td>\n",
       "      <td>4</td>\n",
       "    </tr>\n",
       "    <tr>\n",
       "      <th>14</th>\n",
       "      <td>ENO</td>\n",
       "      <td>2pg &lt;=&gt; pep + h2o</td>\n",
       "      <td>C00631 &lt;=&gt; C00074 + C00001</td>\n",
       "      <td>4</td>\n",
       "    </tr>\n",
       "    <tr>\n",
       "      <th>16</th>\n",
       "      <td>PPDK</td>\n",
       "      <td>amp + ppi + pep &lt;=&gt; atp + pi + pyr + h</td>\n",
       "      <td>C00020 + C00013 + C00074 &lt;=&gt; C00002 + C00009 +...</td>\n",
       "      <td>4</td>\n",
       "    </tr>\n",
       "    <tr>\n",
       "      <th>20</th>\n",
       "      <td>PFOR</td>\n",
       "      <td>coa + 2 fdxox + pyr &lt;=&gt; h + accoa + 2 fdxrd + ...</td>\n",
       "      <td>C00010 + 2 C00139 + C00022 &lt;=&gt; C00080 + C00024...</td>\n",
       "      <td>4</td>\n",
       "    </tr>\n",
       "    <tr>\n",
       "      <th>22</th>\n",
       "      <td>RNF_PPiase</td>\n",
       "      <td>2 fdxrd + 1 nad + 1.5 h + 1 pi &lt;=&gt; 2 fdxox + 1...</td>\n",
       "      <td>2 C00138 + 1 C00003 + 1.5 C00080 + 1 C00009 &lt;=...</td>\n",
       "      <td>4</td>\n",
       "    </tr>\n",
       "    <tr>\n",
       "      <th>25</th>\n",
       "      <td>ALDH-NADH</td>\n",
       "      <td>nadh + accoa &lt;=&gt; nad + coa + acald</td>\n",
       "      <td>C00004 + C00024 &lt;=&gt; C00003 + C00010 + C00084</td>\n",
       "      <td>4</td>\n",
       "    </tr>\n",
       "    <tr>\n",
       "      <th>27</th>\n",
       "      <td>ADH-NADH</td>\n",
       "      <td>acald + nadh &lt;=&gt; etoh + nad</td>\n",
       "      <td>C00084 + C00004 &lt;=&gt; C00469 + C00003</td>\n",
       "      <td>4</td>\n",
       "    </tr>\n",
       "  </tbody>\n",
       "</table>\n",
       "</div>"
      ],
      "text/plain": [
       "          Name                                AbbreviationFormula  \\\n",
       "0         CBtx                            h2o + atp <=> adp + pi    \n",
       "1          CBP                        pi + cellb <=> glc-D + g1p    \n",
       "2          GLK                         glc-D + gtp <=> g6p + gdp    \n",
       "3         PGMT                                       g1p <=> g6p    \n",
       "4          PGI                                       g6p <=> f6p    \n",
       "5      PFK-PPi                        ppi + f6p <=> pi + fdp + h    \n",
       "7          FBA                                fdp <=> dhap + g3p    \n",
       "8          TPI                                      dhap <=> g3p    \n",
       "9        GAPDH                   pi + nad + g3p <=> nadh + 13dpg    \n",
       "12     PGK-GTP                         gdp + 13dpg <=> gtp + 3pg    \n",
       "13         PGM                                       3pg <=> 2pg    \n",
       "14         ENO                                 2pg <=> pep + h2o    \n",
       "16        PPDK            amp + ppi + pep <=> atp + pi + pyr + h    \n",
       "20        PFOR  coa + 2 fdxox + pyr <=> h + accoa + 2 fdxrd + ...   \n",
       "22  RNF_PPiase  2 fdxrd + 1 nad + 1.5 h + 1 pi <=> 2 fdxox + 1...   \n",
       "25   ALDH-NADH                nadh + accoa <=> nad + coa + acald    \n",
       "27    ADH-NADH                       acald + nadh <=> etoh + nad    \n",
       "\n",
       "                                          KeggFormula  flux  \n",
       "0                C00001 + C00002 <=> C00008 + C00009      1  \n",
       "1                C00009 + C00185 <=> C00031 + C00103      1  \n",
       "2                C00031 + C00044 <=> C00092 + C00035      1  \n",
       "3                                  C00103 <=> C00092      1  \n",
       "4                                  C00092 <=> C00085      2  \n",
       "5       C00013 + C00085 <=> C00009 + C00354 + C00080      2  \n",
       "7                         C00354 <=> C00111 + C00118      2  \n",
       "8                                  C00111 <=> C00118      2  \n",
       "9       C00009 + C00003 + C00118 <=> C00004 + C00236      4  \n",
       "12               C00035 + C00236 <=> C00044 + C00197      4  \n",
       "13                                 C00197 <=> C00631      4  \n",
       "14                        C00631 <=> C00074 + C00001      4  \n",
       "16  C00020 + C00013 + C00074 <=> C00002 + C00009 +...     4  \n",
       "20  C00010 + 2 C00139 + C00022 <=> C00080 + C00024...     4  \n",
       "22  2 C00138 + 1 C00003 + 1.5 C00080 + 1 C00009 <=...     4  \n",
       "25      C00004 + C00024 <=> C00003 + C00010 + C00084      4  \n",
       "27               C00084 + C00004 <=> C00469 + C00003      4  "
      ]
     },
     "execution_count": 5,
     "metadata": {},
     "output_type": "execute_result"
    }
   ],
   "source": [
    "# choose a flux set, and drop all of the zero-flux reactions\n",
    "fluxSet = 'flux1'\n",
    "selectedRxnDf = allRxnDf.loc[allRxnDf[fluxSet] != 0, ['Name', 'AbbreviationFormula', 'KeggFormula', fluxSet]]\n",
    "selectedRxnDf.rename(columns = {fluxSet:'flux'}, inplace = True) # rename the flux columns to 'flux' to simplify subsequent\n",
    "                                                                 # processing\n",
    "selectedRxnDf"
   ]
  },
  {
   "cell_type": "code",
   "execution_count": 6,
   "metadata": {},
   "outputs": [],
   "source": [
    "# parse the KeggFormula column to create eQuilibrator Reaction objects\n",
    "# create reaction list\n",
    "reactions = []\n",
    "for i, row in selectedRxnDf.iterrows():\n",
    "    rxn = Reaction.parse_formula(row['KeggFormula'], rid = row['Name'])\n",
    "    if (rxn.check_full_reaction_balancing()):\n",
    "        reactions.append(rxn)\n",
    "    else:\n",
    "        print('Error: reaction {} is not balanced'.format(row['AbbreviationFormula']))\n",
    "        \n",
    "# create flux list\n",
    "fluxes = selectedRxnDf['flux'].values\n",
    "\n",
    "# need to declare pH and ionic strength constants at the beginning\n",
    "PH = 7.0\n",
    "IS = 0.1\n",
    "\n",
    "# calculate dGO_r_primes\n",
    "dG0_r_primes = []\n",
    "for r in reactions:\n",
    "    result = r.dG0_prime(pH = PH, ionic_strength = IS)\n",
    "    #print(result)\n",
    "    dG0_r_primes.append(result)"
   ]
  },
  {
   "cell_type": "code",
   "execution_count": 7,
   "metadata": {},
   "outputs": [],
   "source": [
    "# set up the model\n",
    "pp = Pathway(reactions = reactions, fluxes = fluxes, dG0_r_primes = dG0_r_primes)"
   ]
  },
  {
   "cell_type": "code",
   "execution_count": 8,
   "metadata": {},
   "outputs": [],
   "source": [
    "# set up the reaction bounds\n",
    "# make a dataframe with the upper and lower bounds\n",
    "def bounds_to_df(compounds, bounds):\n",
    "    \"\"\"\n",
    "    Make a dataframe with concentrations\n",
    "    Args:\n",
    "        compounds = list of KEGG IDs\n",
    "        bounds = equilibrator-api bounds object\n",
    "    \"\"\"\n",
    "    boundsDf = pd.DataFrame(compounds, columns = ['Compound:Identifiers:kegg.compound']) # I had to choose this clunky column name to make it work with bounds.py \n",
    "                                                                                                    # from_dataframe method\n",
    "    boundsDf['Name'] = boundsDf['Compound:Identifiers:kegg.compound'].apply(lambda x: kta.loc[x.lower()]) # add abbreviations\n",
    "    boundsDf['Concentration:Max'] = boundsDf['Compound:Identifiers:kegg.compound'].apply(lambda x: bounds.GetUpperBound(x))\n",
    "    boundsDf['Concentration:Min'] = boundsDf['Compound:Identifiers:kegg.compound'].apply(lambda x: bounds.GetLowerBound(x))\n",
    "    return boundsDf"
   ]
  },
  {
   "cell_type": "code",
   "execution_count": 17,
   "metadata": {},
   "outputs": [],
   "source": [
    "saveDirs = [\"P1_gtp_ratio\"]\n",
    "gtp_ratio = [1,5,10,15,20,25,30,35,40,45,50,55,60]\n",
    "exp_data_file = \"ctherm_exp_data.txt\"\n",
    "exp_data = []\n",
    "all_data = {}\n",
    "f = open(exp_data_file, \"r\")\n",
    "l = f.readline()\n",
    "l = f.readline()\n",
    "mets_constr = [i for i in l.strip(\"\\n\").split(\" \") if i != \"\"]\n",
    "l = f.readline()\n",
    "while l != \"\":\n",
    "    data = [float(i) for i in l.strip(\"\\n\").split(\" \") if i != \"\"]\n",
    "    exp_data.append(dict(zip(mets_constr, data)))\n",
    "    l = f.readline()\n",
    "\n",
    "f.close()\n",
    "Uf = 1.5 #Uncertainity factor \n",
    "ref_conc0 = {'C00469': 10,\n",
    "            'C00004': 0.08,\n",
    "            'C00024': 0.83,\n",
    "            'C00002': 2.70,\n",
    "            'C00008': 0.11,\n",
    "            'C00020': 0.22,\n",
    "            'C00354': 1.50,\n",
    "            'C00092': 8.19,\n",
    "            'C00074': 0.69,\n",
    "            'C00005': 0.38,\n",
    "            'C00022': 12.65,\n",
    "            'C00103': 6.66\n",
    "            }\n",
    "for k in range(len(saveDirs)):\n",
    "    ref_conc = {k: float(v) / 1000 for k,v in ref_conc0.items()}\n",
    "    for cpd, conc in ref_conc.items():\n",
    "        pp.bounds.SetBounds(cpd, conc / Uf,conc * Uf )\n",
    "\n",
    "    for r in gtp_ratio:\n",
    "        dictCur ={}\n",
    "        all_data[r] ={}\n",
    "        # fix PPI/PI ratio\n",
    "        pp.bounds.SetBounds('C00013', 1e-3 * 12,1e-3 * 12 )\n",
    "        pp.bounds.SetBounds('C00009', 1e-3 * 10,1e-3 * 10 )\n",
    "        t = 0\n",
    "        # vary GTP/GDP ratio\n",
    "        ref_conc['C00044'] = (0.01 * r * 1e-3)\n",
    "        pp.bounds.SetBounds('C00035',1/Uf * 1e-3 * 0.01, Uf * 1e-3 * 0.01)\n",
    "        for d in exp_data:\n",
    "            for cpd, conc in ref_conc.items():\n",
    "                if cpd == \"C00469\":\n",
    "                    # absolute EtOH conc\n",
    "                    pp.bounds.SetBounds(cpd,d[cpd], d[cpd])\n",
    "                elif cpd == \"C00004\":\n",
    "                    # NADH/NAD+ ratio\n",
    "                    pp.bounds.SetBounds(cpd, 1/Uf * conc * float(d[cpd]) / 0.3, Uf * conc * float(d[cpd]) / 0.3)\n",
    "                elif cpd == \"C00044\":\n",
    "                    # NADH/NAD+ ratio\n",
    "                    #pp.bounds.SetBounds(cpd,1/Uf * conc * float(d['C00002']), Uf * conc * float(d['C00002']))\n",
    "                    pp.bounds.SetBounds(cpd,1/Uf * 1e-3 * 0.01 * r, Uf * 1e-3 * 0.01 * r)\n",
    "                #elif cpd == \"C00008\" and t == 0:\n",
    "                    #p['bounds'][cpd] = (conc, ) * 2\n",
    "                elif cpd not in [\"C00008\",\"C00085\",\"C00006\",\"C00003\",\"C00118\",\"C00011\",\"C00197\",\"C00010\",\"C00044\"]:\n",
    "                    # other relative data\n",
    "                    pp.bounds.SetBounds(cpd,1/Uf * conc * d[cpd], Uf * conc * d[cpd])\n",
    "\n",
    "            \n",
    "            # calculate the min-max driving force\n",
    "            mdf_data = pp.calc_mdf()\n",
    "            #mdf_data.mdf_plot\n",
    "            # store the data\n",
    "            dictCur[t] = {'mdf': mdf_data.mdf}\n",
    "            dictCur[t][\"reaction prices\"] = {r.reaction.reaction_id: float(r.shadow_price) for r in mdf_data.reaction_data}\n",
    "            dictCur[t][\"gibbs energies\"] = {r.reaction.reaction_id: float(r.dGr) for r in mdf_data.reaction_data}\n",
    "            dictCur[t][\"concentrations\"] = {str(c.compound): float(c.concentration) for c in mdf_data.compound_data}\n",
    "            dictCur[t][\"compound prices\"] = {str(c.compound): float(c.shadow_price) for c in mdf_data.compound_data}\n",
    "\n",
    "            all_data[r] = dictCur\n",
    "            t += 1"
   ]
  },
  {
   "cell_type": "code",
   "execution_count": 18,
   "metadata": {},
   "outputs": [
    {
     "data": {
      "text/plain": [
       "<matplotlib.axes._subplots.AxesSubplot at 0x1a2b4c8390>"
      ]
     },
     "execution_count": 18,
     "metadata": {},
     "output_type": "execute_result"
    },
    {
     "data": {
      "image/png": "[encoded data removed]",
      "text/plain": [
       "<Figure size 432x288 with 2 Axes>"
      ]
     },
     "metadata": {},
     "output_type": "display_data"
    }
   ],
   "source": [
    "import seaborn as sns\n",
    "sns.set()\n",
    "fng_data={}\n",
    "for r in [1,5,10,15,20,25,30,35,40,45,50,55,60]:\n",
    "    fng_data[r]={}\n",
    "    for t in range(10):\n",
    "        fng_data[r][t] = all_data[r][t][\"reaction prices\"][\"PFK-PPi\"]\n",
    "import pandas as pd\n",
    "df = pd.DataFrame.from_dict(fng_data)\n",
    "sns.heatmap(df)\n",
    "#xlabel('PPi conc in mM')\n",
    "#ylabel('timepoints')"
   ]
  },
  {
   "cell_type": "code",
   "execution_count": 19,
   "metadata": {},
   "outputs": [
    {
     "data": {
      "text/plain": [
       "Text(0.5, 1.0, 'MDF vs GTP conc.')"
      ]
     },
     "execution_count": 19,
     "metadata": {},
     "output_type": "execute_result"
    },
    {
     "data": {
      "image/png": "[encoded data removed]",
      "text/plain": [
       "<Figure size 432x288 with 1 Axes>"
      ]
     },
     "metadata": {},
     "output_type": "display_data"
    }
   ],
   "source": [
    "import matplotlib.pyplot as plt\n",
    "mdf_data={}\n",
    "for r in [1,5,10,15,20,25,30,35,40,45,50,55,60]:\n",
    "    mdf_data[r]={}\n",
    "    for t in range(10):\n",
    "        mdf_data[r][t] = all_data[r][t][\"mdf\"]\n",
    "r = [1,5,10,15,20,25,30,35,40,45,50,55,60]        \n",
    "y = {r[i]: mdf_data[r[i]][9] for i in range(len(r))}\n",
    " \n",
    "#sns.lineplot(y.items())\n",
    "\n",
    "plt.plot(*zip(*sorted(y.items())))\n",
    "plt.xlabel('GTP conc in 0.01 mM')\n",
    "plt.ylabel('MDF at timepoint 9')\n",
    "plt.title('MDF vs GTP conc.')"
   ]
  },
  {
   "cell_type": "code",
   "execution_count": 20,
   "metadata": {},
   "outputs": [
    {
     "data": {
      "text/plain": [
       "Text(0.5, 1.0, 'MDF vs GTP conc.')"
      ]
     },
     "execution_count": 20,
     "metadata": {},
     "output_type": "execute_result"
    },
    {
     "data": {
      "image/png": "[encoded data removed]",
      "text/plain": [
       "<Figure size 432x288 with 1 Axes>"
      ]
     },
     "metadata": {},
     "output_type": "display_data"
    }
   ],
   "source": [
    "y = {r[i]: float(mdf_data[r[i]][8]) for i in range(len(r))}\n",
    "plt.plot(*zip(*sorted(y.items())))\n",
    "plt.xlabel('GTP conc in 0.01 mM')\n",
    "plt.ylabel('MDF at timepoint 8')\n",
    "plt.title('MDF vs GTP conc.')\n"
   ]
  },
  {
   "cell_type": "code",
   "execution_count": 21,
   "metadata": {},
   "outputs": [
    {
     "data": {
      "text/plain": [
       "<matplotlib.axes._subplots.AxesSubplot at 0x1a2b433cf8>"
      ]
     },
     "execution_count": 21,
     "metadata": {},
     "output_type": "execute_result"
    },
    {
     "data": {
      "image/png": "[encoded data removed]",
      "text/plain": [
       "<Figure size 432x288 with 2 Axes>"
      ]
     },
     "metadata": {},
     "output_type": "display_data"
    }
   ],
   "source": [
    "fng_data={}\n",
    "for t in range(10):\n",
    "    fng_data[t] = all_data[10][t][\"reaction prices\"]\n",
    "df = pd.DataFrame.from_dict(fng_data)\n",
    "sns.heatmap(df)"
   ]
  },
  {
   "cell_type": "code",
   "execution_count": 22,
   "metadata": {},
   "outputs": [
    {
     "data": {
      "text/plain": [
       "<matplotlib.axes._subplots.AxesSubplot at 0x1a2b6c3518>"
      ]
     },
     "execution_count": 22,
     "metadata": {},
     "output_type": "execute_result"
    },
    {
     "data": {
      "image/png": "[encoded data removed]",
      "text/plain": [
       "<Figure size 432x288 with 2 Axes>"
      ]
     },
     "metadata": {},
     "output_type": "display_data"
    }
   ],
   "source": [
    "import seaborn as sns\n",
    "sns.set()\n",
    "fng_data={}\n",
    "for r in [1,5,10,15,20,25,30,35,40,45,50,55,60]:\n",
    "    fng_data[r]={}\n",
    "    for t in range(10):\n",
    "        fng_data[r][t] = all_data[r][t][\"mdf\"]\n",
    "import pandas as pd\n",
    "df = pd.DataFrame.from_dict(fng_data)\n",
    "sns.heatmap(df)"
   ]
  },
  {
   "cell_type": "code",
   "execution_count": 29,
   "metadata": {},
   "outputs": [
    {
     "data": {
      "text/plain": [
       "Text(0.5, 1.0, 'MDF vs time points')"
      ]
     },
     "execution_count": 29,
     "metadata": {},
     "output_type": "execute_result"
    },
    {
     "data": {
      "image/png": "[encoded data removed]",
      "text/plain": [
       "<Figure size 432x288 with 1 Axes>"
      ]
     },
     "metadata": {},
     "output_type": "display_data"
    }
   ],
   "source": [
    "y={}\n",
    "for t in range(10):\n",
    "    y[t] = float(mdf_data[1][t]) \n",
    "plt.plot(*zip(*sorted(y.items())))\n",
    "plt.xlabel('timepoints')\n",
    "plt.ylabel('MDF at GTP conc of 0.01 mM')\n",
    "plt.title('MDF vs time points')"
   ]
  },
  {
   "cell_type": "code",
   "execution_count": null,
   "metadata": {},
   "outputs": [],
   "source": []
  }
 ],
 "metadata": {
  "kernelspec": {
   "display_name": "py3.6",
   "language": "python",
   "name": "py3.6"
  },
  "language_info": {
   "codemirror_mode": {
    "name": "ipython",
    "version": 3
   },
   "file_extension": ".py",
   "mimetype": "text/x-python",
   "name": "python",
   "nbconvert_exporter": "python",
   "pygments_lexer": "ipython3",
   "version": "3.6.7"
  }
 },
 "nbformat": 4,
 "nbformat_minor": 2
}
