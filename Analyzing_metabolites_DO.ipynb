{
 "cells": [
  {
   "cell_type": "markdown",
   "metadata": {},
   "source": [
    "# Using thermodynamic analysis to guide metabolic engineering\n",
    "DO 12-6-2018  \n",
    "Using Python 3 and eQuilibrator API  \n",
    "\n",
    "DO 12-17-2018  \n",
    "Looking at different ethanol ratios\n",
    "\n",
    "DO 12-19-2018  \n",
    "Using measured metabolite data to further constrain the system\n"
   ]
  },
  {
   "cell_type": "code",
   "execution_count": 18,
   "metadata": {},
   "outputs": [],
   "source": [
    "import numpy as np\n",
    "from numpy import array, eye, log, zeros\n",
    "import pandas as pd\n",
    "from equilibrator_api import Reaction, ComponentContribution, ReactionMatcher, CompoundMatcher, ParseError, Pathway\n",
    "from equilibrator_api.bounds import Bounds, DEFAULT_BOUNDS\n",
    "import seaborn as sns\n",
    "from matplotlib.ticker import FormatStrFormatter\n",
    "import copy # for copying pp objects\n",
    "%matplotlib inline"
   ]
  },
  {
   "cell_type": "markdown",
   "metadata": {},
   "source": [
    "## Set up translator for KEGG IDs\n",
    "Note: I set these up as dataframes because I was troubleshooting an issue with duplicate KEGG IDs. Eventually I think these should be set up as dictionaries, to make the code more readable"
   ]
  },
  {
   "cell_type": "code",
   "execution_count": 3,
   "metadata": {},
   "outputs": [],
   "source": [
    "# set up the reaction bounds\n",
    "# make a dataframe with the upper and lower bounds\n",
    "def bounds_to_df(compounds, bounds):\n",
    "    \"\"\"\n",
    "    Make a dataframe with concentrations\n",
    "    Args:\n",
    "        compounds = list of KEGG IDs\n",
    "        bounds = equilibrator-api bounds object\n",
    "    \"\"\"\n",
    "    boundsDf = pd.DataFrame(compounds, columns = ['Compound:Identifiers:kegg.compound']) # I had to choose this clunky column name to make it work with bounds.py \n",
    "                                                                                                    # from_dataframe method\n",
    "    boundsDf['Name'] = boundsDf['Compound:Identifiers:kegg.compound'].apply(lambda x: kta.loc[x.lower()]) # add abbreviations\n",
    "    boundsDf['Concentration:Max'] = boundsDf['Compound:Identifiers:kegg.compound'].apply(lambda x: bounds.GetUpperBound(x))\n",
    "    boundsDf['Concentration:Min'] = boundsDf['Compound:Identifiers:kegg.compound'].apply(lambda x: bounds.GetLowerBound(x))\n",
    "    return boundsDf"
   ]
  },
  {
   "cell_type": "code",
   "execution_count": 4,
   "metadata": {},
   "outputs": [],
   "source": [
    "# make a dictionary to translate KEGG IDs into human-readable abbreviations\n",
    "keggTranslatorDf = pd.read_excel('KEGG_SEED_DO.xls')\n",
    "kt = keggTranslatorDf #short name for easier typing\n",
    "\n",
    "# translate KEGG ID to abbreviation\n",
    "kta = kt.loc[:,['KEGG ID(S)', 'ABBREVIATION']]\n",
    "kta['KEGG ID(S)'] = kta['KEGG ID(S)'].str.lower() # set to lower case for better matching\n",
    "kta.set_index('KEGG ID(S)', inplace = True)\n",
    "\n",
    "atkDict = dict(zip(kt['ABBREVIATION'].values, kt['KEGG ID(S)'].values))\n",
    "ktaDict = dict(zip(kt['KEGG ID(S)'].values, kt['ABBREVIATION'].values))"
   ]
  },
  {
   "cell_type": "markdown",
   "metadata": {},
   "source": [
    "## Set up model\n",
    "* Choose reactions\n",
    "* Set fluxes\n",
    "* Set pH and ionic strength"
   ]
  },
  {
   "cell_type": "code",
   "execution_count": 5,
   "metadata": {},
   "outputs": [
    {
     "data": {
      "text/html": [
       "<div>\n",
       "<style scoped>\n",
       "    .dataframe tbody tr th:only-of-type {\n",
       "        vertical-align: middle;\n",
       "    }\n",
       "\n",
       "    .dataframe tbody tr th {\n",
       "        vertical-align: top;\n",
       "    }\n",
       "\n",
       "    .dataframe thead th {\n",
       "        text-align: right;\n",
       "    }\n",
       "</style>\n",
       "<table border=\"1\" class=\"dataframe\">\n",
       "  <thead>\n",
       "    <tr style=\"text-align: right;\">\n",
       "      <th></th>\n",
       "      <th>Name</th>\n",
       "      <th>PlaintextFormula</th>\n",
       "      <th>AbbreviationFormula</th>\n",
       "      <th>KeggFormula</th>\n",
       "      <th>Notes</th>\n",
       "      <th>ppi-pfk</th>\n",
       "      <th>atp-pfk</th>\n",
       "      <th>mal-snt</th>\n",
       "      <th>pdc</th>\n",
       "      <th>gapn</th>\n",
       "      <th>pyk</th>\n",
       "      <th>aldh-ndp</th>\n",
       "      <th>adh-ndp</th>\n",
       "      <th>mal-gapn</th>\n",
       "      <th>tsac</th>\n",
       "    </tr>\n",
       "  </thead>\n",
       "  <tbody>\n",
       "    <tr>\n",
       "      <th>0</th>\n",
       "      <td>CBtx</td>\n",
       "      <td>H2O + ATP &lt;=&gt; ADP + Phosphate</td>\n",
       "      <td>h2o + atp &lt;=&gt; adp + pi</td>\n",
       "      <td>C00001 + C00002 &lt;=&gt; C00008 + C00009</td>\n",
       "      <td>ATP hydrolysis for cellobiose transport</td>\n",
       "      <td>1</td>\n",
       "      <td>1</td>\n",
       "      <td>1</td>\n",
       "      <td>1</td>\n",
       "      <td>1</td>\n",
       "      <td>1</td>\n",
       "      <td>1</td>\n",
       "      <td>1</td>\n",
       "      <td>1</td>\n",
       "      <td>1</td>\n",
       "    </tr>\n",
       "    <tr>\n",
       "      <th>1</th>\n",
       "      <td>CBP</td>\n",
       "      <td>Phosphate + Cellobiose &lt;=&gt; D-Glucose + Glucose...</td>\n",
       "      <td>pi + cellb &lt;=&gt; glc-D + g1p</td>\n",
       "      <td>C00009 + C00185 &lt;=&gt; C00031 + C00103</td>\n",
       "      <td>NaN</td>\n",
       "      <td>1</td>\n",
       "      <td>1</td>\n",
       "      <td>1</td>\n",
       "      <td>1</td>\n",
       "      <td>1</td>\n",
       "      <td>1</td>\n",
       "      <td>1</td>\n",
       "      <td>1</td>\n",
       "      <td>1</td>\n",
       "      <td>0</td>\n",
       "    </tr>\n",
       "    <tr>\n",
       "      <th>2</th>\n",
       "      <td>BGL</td>\n",
       "      <td>Cellobiose + H2O &lt;=&gt; 2 D-Glucose</td>\n",
       "      <td>cellb + h2o &lt;=&gt;2 glc-D</td>\n",
       "      <td>C00185 + C00001 &lt;=&gt; 2 C00031</td>\n",
       "      <td>Beta glucosidase</td>\n",
       "      <td>0</td>\n",
       "      <td>0</td>\n",
       "      <td>0</td>\n",
       "      <td>0</td>\n",
       "      <td>0</td>\n",
       "      <td>0</td>\n",
       "      <td>0</td>\n",
       "      <td>0</td>\n",
       "      <td>0</td>\n",
       "      <td>1</td>\n",
       "    </tr>\n",
       "    <tr>\n",
       "      <th>3</th>\n",
       "      <td>GLK-GTP</td>\n",
       "      <td>D-Glucose + GTP &lt;=&gt; D-Glucose-6-phosphate + GDP</td>\n",
       "      <td>glc-D + gtp &lt;=&gt; g6p + gdp</td>\n",
       "      <td>C00031 + C00044 &lt;=&gt; C00092 + C00035</td>\n",
       "      <td>NaN</td>\n",
       "      <td>1</td>\n",
       "      <td>1</td>\n",
       "      <td>1</td>\n",
       "      <td>1</td>\n",
       "      <td>1</td>\n",
       "      <td>1</td>\n",
       "      <td>1</td>\n",
       "      <td>1</td>\n",
       "      <td>1</td>\n",
       "      <td>0</td>\n",
       "    </tr>\n",
       "    <tr>\n",
       "      <th>4</th>\n",
       "      <td>GLK-ATP</td>\n",
       "      <td>D-Glucose + ATP &lt;=&gt; D-Glucose-6-phosphate + ADP</td>\n",
       "      <td>glc-D + atp &lt;=&gt; g6p + adp</td>\n",
       "      <td>C00031 + C00002 &lt;=&gt; C00092 + C00008</td>\n",
       "      <td>NaN</td>\n",
       "      <td>0</td>\n",
       "      <td>0</td>\n",
       "      <td>0</td>\n",
       "      <td>0</td>\n",
       "      <td>0</td>\n",
       "      <td>0</td>\n",
       "      <td>0</td>\n",
       "      <td>0</td>\n",
       "      <td>0</td>\n",
       "      <td>2</td>\n",
       "    </tr>\n",
       "  </tbody>\n",
       "</table>\n",
       "</div>"
      ],
      "text/plain": [
       "      Name                                   PlaintextFormula  \\\n",
       "0     CBtx                     H2O + ATP <=> ADP + Phosphate    \n",
       "1      CBP  Phosphate + Cellobiose <=> D-Glucose + Glucose...   \n",
       "2      BGL                   Cellobiose + H2O <=> 2 D-Glucose   \n",
       "3  GLK-GTP    D-Glucose + GTP <=> D-Glucose-6-phosphate + GDP   \n",
       "4  GLK-ATP    D-Glucose + ATP <=> D-Glucose-6-phosphate + ADP   \n",
       "\n",
       "           AbbreviationFormula                           KeggFormula  \\\n",
       "0      h2o + atp <=> adp + pi   C00001 + C00002 <=> C00008 + C00009    \n",
       "1  pi + cellb <=> glc-D + g1p   C00009 + C00185 <=> C00031 + C00103    \n",
       "2       cellb + h2o <=>2 glc-D          C00185 + C00001 <=> 2 C00031   \n",
       "3   glc-D + gtp <=> g6p + gdp   C00031 + C00044 <=> C00092 + C00035    \n",
       "4   glc-D + atp <=> g6p + adp   C00031 + C00002 <=> C00092 + C00008    \n",
       "\n",
       "                                     Notes  ppi-pfk  atp-pfk  mal-snt  pdc  \\\n",
       "0  ATP hydrolysis for cellobiose transport        1        1        1    1   \n",
       "1                                      NaN        1        1        1    1   \n",
       "2                         Beta glucosidase        0        0        0    0   \n",
       "3                                      NaN        1        1        1    1   \n",
       "4                                      NaN        0        0        0    0   \n",
       "\n",
       "   gapn  pyk  aldh-ndp  adh-ndp  mal-gapn  tsac  \n",
       "0     1    1         1        1         1     1  \n",
       "1     1    1         1        1         1     0  \n",
       "2     0    0         0        0         0     1  \n",
       "3     1    1         1        1         1     0  \n",
       "4     0    0         0        0         0     2  "
      ]
     },
     "execution_count": 5,
     "metadata": {},
     "output_type": "execute_result"
    }
   ],
   "source": [
    "# need to declare pH and ionic strength constants at the beginning\n",
    "# they are used in the make_pathway function\n",
    "PH = 7.0\n",
    "IS = 0.1\n",
    "\n",
    "# load stoichiometric model from Excel file\n",
    "allRxnDf = pd.read_excel('cth_thermo_model_DO_SD2.xlsx', # using Satya's version\n",
    "                         sheet_name = 'reactions')\n",
    "# make list of flux sets from excel file column names\n",
    "# all of the column names from 'ppi-pfk' to 'mal-gapn' inclusive\n",
    "fluxSets = allRxnDf.loc[:,'ppi-pfk':].columns.values \n",
    "\n",
    "# load bounds information from the model\n",
    "boundsDf = pd.read_excel('cth_thermo_model_DO_SD2.xlsx', # using Satya's version\n",
    "                         sheet_name = 'metabolite_bounds')\n",
    "allRxnDf[:5]"
   ]
  },
  {
   "cell_type": "code",
   "execution_count": 8,
   "metadata": {},
   "outputs": [],
   "source": [
    "def make_pathway(fluxSet, allRxnDf):\n",
    "    \"\"\"\n",
    "    Given a fluxSet name, return the parsed pathway object\n",
    "    \n",
    "    Args:\n",
    "       fluxSet: is the name of a column in the Excel model file\n",
    "       allRxnDf: a dataframe with the model reactions\n",
    "    \"\"\"\n",
    "    # choose a flux set, and drop all of the zero-flux reactions\n",
    "    selectedRxnDf = allRxnDf.loc[allRxnDf[fluxSet] != 0, ['Name', 'AbbreviationFormula', 'KeggFormula', fluxSet]]\n",
    "    selectedRxnDf.rename(columns = {fluxSet:'flux'}, inplace = True) # rename the flux columns to 'flux' to simplify subsequent\n",
    "                                                                     # processing\n",
    "    #selectedRxnDf\n",
    "    # parse the KeggFormula column to create eQuilibrator Reaction objects\n",
    "    # create reaction list\n",
    "    reactions = []\n",
    "    for i, row in selectedRxnDf.iterrows():\n",
    "        rxn = Reaction.parse_formula(row['KeggFormula'], rid = row['Name'])\n",
    "        if (rxn.check_full_reaction_balancing()):\n",
    "            reactions.append(rxn)\n",
    "        else:\n",
    "            print('Error: reaction {} is not balanced'.format(row['AbbreviationFormula']))\n",
    "\n",
    "    # create flux list\n",
    "    fluxes = selectedRxnDf['flux'].values\n",
    "\n",
    "    # calculate dGO_r_primes\n",
    "    dG0_r_primes = []\n",
    "    for r in reactions:\n",
    "        result = r.dG0_prime(pH = PH, ionic_strength = IS)\n",
    "        #print(result)\n",
    "        dG0_r_primes.append(result)\n",
    "\n",
    "    # set up the model\n",
    "    pp = Pathway(reactions = reactions, fluxes = fluxes, dG0_r_primes = dG0_r_primes, \n",
    "                 pH = PH, ionic_strength = IS, bounds = None)\n",
    "    return pp"
   ]
  },
  {
   "cell_type": "code",
   "execution_count": 51,
   "metadata": {},
   "outputs": [
    {
     "name": "stdout",
     "output_type": "stream",
     "text": [
      "(3, 23)\n",
      "(3, 23)\n",
      "(3, 23)\n",
      "1982057204144\n",
      "1982057204144\n",
      "1982057204144\n"
     ]
    }
   ],
   "source": [
    "pp1 = make_pathway('ppi-pfk', allRxnDf)\n",
    "pp1.bounds.SetBounds('COOOO1', 2,7 )\n",
    "pp2 = make_pathway('atp-pfk', allRxnDf)\n",
    "pp2.bounds.SetBounds('COOOO1', 3,23 )\n",
    "print(pp1.bounds.GetBoundTuple('COOOO1'))\n",
    "print(pp2.bounds.GetBoundTuple('COOOO1'))\n",
    "print(DEFAULT_BOUNDS.GetBoundTuple('COOOO1'))\n",
    "\n",
    "print(id(pp1.bounds))\n",
    "print(id(pp2.bounds))\n",
    "print(id(DEFAULT_BOUNDS))\n"
   ]
  },
  {
   "cell_type": "code",
   "execution_count": 41,
   "metadata": {},
   "outputs": [
    {
     "name": "stdout",
     "output_type": "stream",
     "text": [
      "1982057204144\n",
      "1980234321872\n",
      "1982057204144\n",
      "1980225131016\n",
      "1982057204144\n",
      "1982057204144\n",
      "1980226951936\n",
      "1980227291008\n",
      "1980227200056\n"
     ]
    }
   ],
   "source": [
    "print(id(pp3.bounds))\n",
    "print(id(pp4.bounds))\n",
    "print(id(pp5.bounds))\n",
    "print(id(pp6.bounds))\n",
    "print(id(pp7.bounds))\n",
    "print(id(pp10.bounds))\n",
    "print(id(pp11.bounds))\n",
    "\n",
    "b2 = Bounds.from_csv_filename('data/cofactors.csv')\n",
    "b3 = Bounds.from_csv_filename('data/cofactors.csv')\n",
    "print(id(b2))\n",
    "print(id(b3))"
   ]
  },
  {
   "cell_type": "code",
   "execution_count": 39,
   "metadata": {},
   "outputs": [
    {
     "name": "stdout",
     "output_type": "stream",
     "text": [
      "(1, 10)\n",
      "(2, 7)\n",
      "(1e-06, 0.01)\n"
     ]
    }
   ],
   "source": [
    "pp11.bounds.SetBounds(atkDict['etoh'], 2,7 )\n",
    "print(pp10.bounds.GetBoundTuple(atkDict['etoh']))\n",
    "print(pp11.bounds.GetBoundTuple(atkDict['etoh']))\n",
    "print(b2.GetBoundTuple(atkDict['etoh']))\n",
    " "
   ]
  },
  {
   "cell_type": "code",
   "execution_count": 38,
   "metadata": {},
   "outputs": [
    {
     "data": {
      "text/plain": [
       "<equilibrator_api.bounds.Bounds at 0x1cd0f29e748>"
      ]
     },
     "execution_count": 38,
     "metadata": {},
     "output_type": "execute_result"
    }
   ],
   "source": [
    "b2."
   ]
  },
  {
   "cell_type": "markdown",
   "metadata": {},
   "source": [
    "## Get measured metabolite data and use it to set bounds\n",
    "* There are several datasets to choose from. For now, I'm going to focus on dataset 2, which we think is the highest quality.\n",
    "* Note that the originaly analysis Josh did was based on dataset 1, which has more timepoints, but the sampling was done aerobically instead of anaerobically"
   ]
  },
  {
   "cell_type": "code",
   "execution_count": null,
   "metadata": {},
   "outputs": [],
   "source": [
    "# get processed metabolite data\n",
    "metDf = pd.read_excel(r'metabolite_data/lt_dataset2_quantified.xlsx')\n",
    "\n",
    "# Translate metabolite names to KEGG IDs using KNOWNS csv file\n",
    "# The plaintext names of the compounds are slightly different from whats in the KEGG_SEED file\n",
    "# Fortunately, the file also has KEGG IDs\n",
    "stdsDf = pd.read_csv('metabolite_data/KNOWNS-Dan121218v2.csv')\n",
    "stdsDf.set_index('compound', inplace = True)\n",
    "\n",
    "# map KEGG IDs to the metDf dataframe\n",
    "metDf['KEGG_ID'] = metDf['compound'].apply(lambda x: stdsDf.loc[x, 'id'])\n",
    "\n",
    "# Fix ethanol data so that it's similar to other metabolites\n",
    "etohGtoM = 46.07\n",
    "etDf = metDf.loc[:, ('ID', 'Sample', 'Ethanol', 'Timepoint', 'Time (h)','Replicate', ' EtOH concentraion (g/L)')] # watch out for space in front of EtOH column name\n",
    "etDf = etDf.drop_duplicates()\n",
    "etDf['KEGG_ID'] = 'C00469' # KEGG ID for ethanol\n",
    "etDf['compound'] = 'ethanol'\n",
    "etDf['amount_int'] = etDf[' EtOH concentraion (g/L)']*(1/etohGtoM)*1e6 # ethanol concentration in the cells is the same as the concentration in the bulk solution, units of uM\n",
    "\n",
    "# append ethanol data to existing metabolite dataframe\n",
    "metDf2 = metDf.append(etDf, sort = False)\n",
    "metDf2[:5]"
   ]
  },
  {
   "cell_type": "code",
   "execution_count": null,
   "metadata": {},
   "outputs": [],
   "source": [
    "# set bounds\n",
    "# start with a pp object\n",
    "# for each timepoint, make a new pp object, with a different set of bounds\n",
    "def set_model_bounds(pp, metaboliteDf, metsToExclude = None):\n",
    "    \"\"\"\n",
    "    Given a parsed pathway (pp) object and a dataframe with metabolite values,\n",
    "    Generate a dataframe of new pp objects, each one with bounds corresponding to a timepoint\n",
    "    from the metabolite data\n",
    "    \n",
    "    Args:\n",
    "        pp: a parsed pathway object from equilibrator-api\n",
    "        metaboliteDf: a dataframe with the following columns\n",
    "           'Sample'\n",
    "           'Time (h)'\n",
    "           'KEGG_ID'\n",
    "           'amount_int' - intracellular metabolite concentration in uM\n",
    "        metsToExclude: a list of KEGG IDs to skip over when setting bounds\n",
    "                       for example, metabolites whose concentration data we\n",
    "                       don't trust\n",
    "    \"\"\"\n",
    "    ppOriginal = pp"
   ]
  },
  {
   "cell_type": "code",
   "execution_count": null,
   "metadata": {},
   "outputs": [],
   "source": [
    "g = metDf2.groupby(['Sample', 'Replicate', 'Timepoint'])\n",
    "for name, group in g:\n",
    "    # loop through each metabolite in the group\n",
    "    for row in group.iterrows():\n",
    "        "
   ]
  },
  {
   "cell_type": "code",
   "execution_count": null,
   "metadata": {},
   "outputs": [],
   "source": [
    "for key in g.groups.keys():\n",
    "    print(key)"
   ]
  },
  {
   "cell_type": "code",
   "execution_count": null,
   "metadata": {},
   "outputs": [],
   "source": [
    "g.get_group(('A', 1, 2))"
   ]
  },
  {
   "cell_type": "code",
   "execution_count": null,
   "metadata": {},
   "outputs": [],
   "source": []
  },
  {
   "cell_type": "code",
   "execution_count": null,
   "metadata": {},
   "outputs": [],
   "source": []
  },
  {
   "cell_type": "code",
   "execution_count": null,
   "metadata": {},
   "outputs": [],
   "source": []
  },
  {
   "cell_type": "code",
   "execution_count": null,
   "metadata": {},
   "outputs": [],
   "source": []
  },
  {
   "cell_type": "code",
   "execution_count": null,
   "metadata": {},
   "outputs": [],
   "source": []
  },
  {
   "cell_type": "code",
   "execution_count": null,
   "metadata": {},
   "outputs": [],
   "source": [
    "def set_model_bounds(pp, setType = 'Cofactor'):\n",
    "    \"\"\"\n",
    "    Given a pathway object, set bounds\n",
    "    setType can be either 'Cofactor' or 'All'\n",
    "    assume that boundsDf has already been created from the model file\n",
    "    \"\"\"\n",
    "    newBoundsDf = boundsDf[boundsDf['Type'] == setType]\n",
    "    for idx, metabolite in newBoundsDf.iterrows():\n",
    "        pp.bounds.SetBounds(metabolite['KEGG_ID'], metabolite['Concentration:Min'], metabolite['Concentration:Max'])\n",
    "        \n",
    "    return pp\n",
    "    "
   ]
  },
  {
   "cell_type": "markdown",
   "metadata": {},
   "source": [
    "## Set up plotting"
   ]
  },
  {
   "cell_type": "code",
   "execution_count": null,
   "metadata": {},
   "outputs": [],
   "source": [
    "# function for plotting the results\n",
    "def make_plots(fluxSet,  mdf_values, et_conc, compDf, rxnDf, netRxns, savePdf = False):\n",
    "    import matplotlib.pyplot as plt\n",
    "    from matplotlib.gridspec import GridSpec\n",
    "\n",
    "    fig = plt.figure( figsize=(15,15))\n",
    "    fig.suptitle('Analysis of flux set: {}'.format(fluxSet), fontsize=16, )\n",
    "    plt.figtext(x=0, y=0.95, s=netRxns[fluxSet], fontsize=10, wrap = True)\n",
    "    gs = GridSpec(4,2, figure=fig)\n",
    "\n",
    "    ax1 = fig.add_subplot(gs[0, 0]) # for MDF plot\n",
    "    ax2 = fig.add_subplot(gs[1:, 0]) # for shadow price plot\n",
    "    ax3 = fig.add_subplot(gs[:2, 1]) # metabolite concentrations\n",
    "    ax4 = fig.add_subplot(gs[2:, 1]) # metabolite shadow prices\n",
    "\n",
    "    # MDF plot\n",
    "    ax1.plot(et_conc, mdf_values, '-o')\n",
    "    ax1.set_title('MDF vs ethanol concentration')\n",
    "    ax1.set_ylabel('MDF')\n",
    "    ax1.set_xlabel('ethanol concentration (M)')\n",
    "    ax1.set_xscale('log')\n",
    "    ax1.axhline(y=0, color='r', linestyle='--')\n",
    "    \n",
    "    # reaction shadow price plot\n",
    "    df = rxnDf.loc[:, 'shadow_price']\n",
    "    sns.heatmap(df, linewidths = 0.05, ax = ax2, cmap='coolwarm', fmt = '.1f', annot = True, \n",
    "                annot_kws={'size':8, 'rotation':90}, vmin=-1, vmax=1)\n",
    "    ax2.set_title('Reaction Shadow Price')\n",
    "    ax2.set_ylabel('Reaction')\n",
    "    ax2.set_xlabel('Ethanol concentration (M)')\n",
    "    \n",
    "    # concentration plot\n",
    "    df = compDf.loc[:, 'concentration'].apply(np.log10)\n",
    "    sns.heatmap(df, ax = ax3, cmap='coolwarm', linewidths = 0.05, fmt = '.1f', annot = True, annot_kws={'size':8},\n",
    "               vmin=-6, vmax=-2)\n",
    "    ax3.set_title('Log Concentration')\n",
    "    ax3.set_ylabel('Metabolite')\n",
    "    ax3.set_xlabel('Ethanol concentration (M)')\n",
    "\n",
    "    # metabolite shadow price plot\n",
    "    df = compDf.loc[:, 'shadow_price'] #.apply(np.log10)\n",
    "    sns.heatmap(df, ax = ax4, cmap='coolwarm', linewidths = 0.05, fmt = '.1f', annot = True, annot_kws={'size':8},\n",
    "               vmin=-2, vmax=2)\n",
    "    ax4.set_title('Metabolite Shadow Price')\n",
    "    ax4.set_ylabel('Metabolite')\n",
    "    ax4.set_xlabel('Ethanol concentration (M)')\n",
    "\n",
    "    plt.tight_layout(rect=[0, 0.03, 1, 0.93])\n",
    "    \n",
    "    # save the results as a PDF if that flag is set to True\n",
    "    if savePdf:\n",
    "        plt.savefig('etoh_analysis_{}.pdf'.format(fluxSet), bbox_inches = \"tight\")"
   ]
  },
  {
   "cell_type": "markdown",
   "metadata": {},
   "source": [
    "## Analyze all flux sets"
   ]
  },
  {
   "cell_type": "code",
   "execution_count": null,
   "metadata": {},
   "outputs": [],
   "source": []
  },
  {
   "cell_type": "code",
   "execution_count": null,
   "metadata": {},
   "outputs": [],
   "source": []
  },
  {
   "cell_type": "code",
   "execution_count": null,
   "metadata": {},
   "outputs": [],
   "source": []
  },
  {
   "cell_type": "code",
   "execution_count": null,
   "metadata": {},
   "outputs": [],
   "source": [
    "rm = ReactionMatcher() # for translating net reactions to plaintext\n",
    "fluxSets = ['ppi-pfk'] # for testing, when I don't want to run through all of the flux sets\n",
    "#fluxSets = allRxnDf.loc[:,'ppi-pfk':].columns.values \n",
    "\n",
    "et_conc = np.geomspace(0.01, 8, 15) # 15 points geometrically spaced from 0.01 to 4\n",
    "#et_conc = [1.0] # for testing a single concentration of ethanol\n",
    "netRxns = {} # dictionary to hold net reaction strings for each flux set\n",
    "\n",
    "for fluxSet in fluxSets:\n",
    "    print('\\n\\n\\n********* Working on flux set {} ************'.format(fluxSet))\n",
    "    pp = makePathway(fluxSet, allRxnDf)\n",
    "    pp = set_model_bounds(pp) # set cofactor concentrations based on 'metabolite_bounds' sheet from Excel model\n",
    "    # determine net reaction in plaintext\n",
    "    dG0p = pp.net_reaction().dG0_prime() # float\n",
    "    rnxTxt = rm.write_text_formula(pp.net_reaction())\n",
    "    netRxnTxt = '∆G0={0:.2f}\\n{1}'.format(dG0p, rnxTxt)\n",
    "    netRxns[fluxSet] = netRxnTxt\n",
    "\n",
    "    # calculate the min-max driving force for different ethanol concentrations\n",
    "    mdf_result = [] # store list of mdf_result objects, in case we want to inspect them later\n",
    "    mdf_values = [] # store MDF values for making MDF vs. ethanol plot\n",
    "    compoundDfList = [] # hold report_compounds dataframes\n",
    "    rxnDfList = [] # hold report_reactions dataframes\n",
    "    for idx, c in enumerate(et_conc):\n",
    "        pp.bounds.SetBounds(atkDict['etoh'], c,c )\n",
    "        result = pp.calc_mdf()\n",
    "        #result.mdf_plot.show() # show MDF vs. reaction plot\n",
    "        mdf_result.append(result)\n",
    "        mdf_values.append(result.mdf)\n",
    "\n",
    "        # clean up dataframe for compounds\n",
    "        df = pd.DataFrame(result.report_compounds)\n",
    "        df['mets'] = df['compound'].map(ktaDict)\n",
    "        df.set_index('mets', drop = True, inplace = True)\n",
    "        nadRatio = df.loc['nad', 'concentration'] / df.loc['nadh', 'concentration'] # calculate nadRatio\n",
    "        mi = pd.MultiIndex.from_product([[et_conc_rnd[idx]], df.columns], names = ['et_conc', 'data'])\n",
    "        df.columns = mi\n",
    "        compoundDfList.append(df)\n",
    "\n",
    "        # clean up dataframe for reactions\n",
    "        df2 = pd.DataFrame(result.report_reactions)\n",
    "        rxnIds = list(r.reaction_id for r in pp.reactions)\n",
    "        df2['name'] = rxnIds\n",
    "        df2.set_index('name', drop = True, inplace = True)\n",
    "        mi2 = pd.MultiIndex.from_product([[et_conc_rnd[idx]], df2.columns], names = ['et_conc', 'data'])\n",
    "        df2.columns = mi2\n",
    "        rxnDfList.append(df2)\n",
    "        \n",
    "        print('ethanol conc = {:.2f}, NAD/NADH ratio = {:.2f}'.format(et_conc[idx], nadRatio))\n",
    "        \n",
    "        # for checking metabolite bounds\n",
    "        #mets = compDf.loc[:,('compound', 0.01)].values\n",
    "        #bDf = bounds_to_df(mets, pp.bounds)\n",
    "        #display(bDf)\n",
    "        \n",
    "\n",
    "    # merge all of the report_compound dataframes into one big one\n",
    "    # arrange the compound results in a dataframe to make plotting easy\n",
    "    compDf = pd.concat(compoundDfList, axis=1)\n",
    "    compDf = compDf.swaplevel(axis = 'columns')\n",
    "    \n",
    "    rxnDf = pd.concat(rxnDfList, axis=1)\n",
    "    rxnDf = rxnDf.swaplevel(axis = 'columns')\n",
    "    \n",
    "    # plot the results\n",
    "    make_plots(fluxSet, mdf_values, et_conc, compDf, rxnDf, netRxns, savePdf = False)"
   ]
  },
  {
   "cell_type": "code",
   "execution_count": null,
   "metadata": {},
   "outputs": [],
   "source": []
  },
  {
   "cell_type": "code",
   "execution_count": null,
   "metadata": {},
   "outputs": [],
   "source": []
  },
  {
   "cell_type": "code",
   "execution_count": null,
   "metadata": {},
   "outputs": [],
   "source": []
  },
  {
   "cell_type": "code",
   "execution_count": null,
   "metadata": {},
   "outputs": [],
   "source": []
  },
  {
   "cell_type": "code",
   "execution_count": null,
   "metadata": {},
   "outputs": [],
   "source": []
  },
  {
   "cell_type": "code",
   "execution_count": null,
   "metadata": {},
   "outputs": [],
   "source": [
    "# checking adenylate charge\n",
    "df2 = df.loc[:,8.0]\n",
    "atp = df2.loc['atp', 'concentration']\n",
    "adp = df2.loc['adp', 'concentration']\n",
    "amp = df2.loc['amp', 'concentration']\n",
    "\n",
    "atpCharge = (atp + 0.5*adp)/(atp+adp+amp)\n",
    "print(atp)\n",
    "print(adp)\n",
    "print(amp)\n",
    "print(atpCharge)"
   ]
  },
  {
   "cell_type": "code",
   "execution_count": null,
   "metadata": {},
   "outputs": [],
   "source": [
    "make_plots(fluxSet, mdf_values, et_conc, compDf, rxnDf, netRxns, savePdf = False)"
   ]
  }
 ],
 "metadata": {
  "kernelspec": {
   "display_name": "Python 3",
   "language": "python",
   "name": "python3"
  },
  "language_info": {
   "codemirror_mode": {
    "name": "ipython",
    "version": 3
   },
   "file_extension": ".py",
   "mimetype": "text/x-python",
   "name": "python",
   "nbconvert_exporter": "python",
   "pygments_lexer": "ipython3",
   "version": "3.6.3"
  }
 },
 "nbformat": 4,
 "nbformat_minor": 2
}
