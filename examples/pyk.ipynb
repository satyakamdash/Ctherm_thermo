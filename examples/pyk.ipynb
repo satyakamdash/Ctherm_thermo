{
 "cells": [
  {
   "cell_type": "code",
   "execution_count": 1,
   "metadata": {},
   "outputs": [],
   "source": [
    "#Changing directory to the github home folder /Ctherm_thermo\n",
    "import os\n",
    "os.chdir('/Users/satyakam/Dropbox/work/component_contribution_ctherm')\n",
    "import sys\n",
    "#add github home folder /Ctherm_thermo and /Ctherm_thermo/scripts\n",
    "sys.path.append('/Users/satyakam/Dropbox/work/component_contribution_ctherm/')\n",
    "sys.path.append('/Users/satyakam/Dropbox/work/component_contribution_ctherm/scripts')"
   ]
  },
  {
   "cell_type": "code",
   "execution_count": 2,
   "metadata": {},
   "outputs": [
    {
     "name": "stdout",
     "output_type": "stream",
     "text": [
      "Academic license - for non-commercial use only\n"
     ]
    }
   ],
   "source": [
    "# -*- coding: utf-8 -*-\n",
    "\"\"\"\n",
    "Created on Tue Oct 14 18:32:46 2014\n",
    "\n",
    "@author: noore\n",
    "\"\"\"\n",
    "import json\n",
    "import sys,pdb\n",
    "#sys.path.append(\"../\")\n",
    "from scripts.max_min_driving_force import KeggFile2ModelList, MaxMinDrivingForce\n",
    "from component_contribution.component_contribution_trainer import ComponentContribution\n",
    "from scripts.html_writer import HtmlWriter\n",
    "import logging\n",
    "import numpy as np\n",
    "import matplotlib.pyplot as plt\n",
    "import pandas as pd\n",
    "\n",
    "# REACTION_FNAME = '../examples/cterm_butanol.txt'\n",
    "# HTML_FNAME = '../res/mdf_cterm_butanol.html'\n",
    "\n",
    "HTML_FNAME = './examples/res_ctherm_pyk/'\n",
    "\n",
    "REACTION_FNAMES = ['./examples/cterm_120218_P1.txt',\n",
    "                   './examples/cterm_120218_P4_malate_shunt.txt',\n",
    "                   './examples/cterm_120218_P7_PYK.txt']\n",
    "saveDirs = [\"P1_ppdk\",\n",
    "            \"P4_malate_shunt\",\n",
    "            \"P7_pyk\"]\n",
    "ratio = [1]\n",
    "exp_data_file = \"ctherm_exp_data.txt\"\n",
    "exp_data = []\n",
    "all_data = {}\n",
    "f = open(exp_data_file, \"r\")\n",
    "l = f.readline()\n",
    "l = f.readline()\n",
    "mets_constr = [i for i in l.strip(\"\\n\").split(\" \") if i != \"\"]\n",
    "l = f.readline()\n",
    "while l != \"\":\n",
    "    data = [float(i) for i in l.strip(\"\\n\").split(\" \") if i != \"\"]\n",
    "    exp_data.append(dict(zip(mets_constr, data)))\n",
    "    l = f.readline()\n",
    "\n",
    "f.close()\n",
    "\n",
    "'''ref_conc0 = {'C00469': 1,\n",
    "            'C00004': 0.08,\n",
    "            'C00024': 0.83,\n",
    "            'C00002': 2.70,\n",
    "            'C00008': 0.11,\n",
    "            'C00020': 0.22,\n",
    "            'C00354': 1.50,\n",
    "            'C00092': 8.19,\n",
    "            'C00085': 1.49,\n",
    "            'C00103': 6.66,\n",
    "            'C00118': 0.10,\n",
    "            'C00197': 1.35,\n",
    "            'C00011': 1.27,\n",
    "            'C00074': 0.69,\n",
    "            'C00005': 0.39,\n",
    "            'C00003': 2.25,\n",
    "            'C00006': 0.26,\n",
    "            'C00010': 0.02,\n",
    "            'C00022': 12.66,\n",
    "            'C00103': 6.66,\n",
    "            'C00044': 0.28,\n",
    "            'C00035': 0.01\n",
    "            }'''\n",
    "ref_conc0 = {'C00469': 10,\n",
    "            'C00004': 0.08,\n",
    "            'C00024': 0.83,\n",
    "            'C00002': 2.70,\n",
    "            'C00008': 0.11,\n",
    "            'C00020': 0.22,\n",
    "            'C00354': 1.50,\n",
    "            'C00092': 8.19,\n",
    "            'C00074': 0.69,\n",
    "            'C00005': 0.38,\n",
    "            'C00022': 12.65,\n",
    "            'C00103': 6.66\n",
    "            }\n",
    "\n",
    "\n",
    "for k in range(len(saveDirs)):\n",
    "    pathways = KeggFile2ModelList(REACTION_FNAMES[k])\n",
    "    p = pathways[0]\n",
    "    cc = ComponentContribution.init()\n",
    "    all_data[k] ={}\n",
    "    p['model'].add_thermo(cc)\n",
    "    cid = p['model'].cids\n",
    "    ref_conc = {k: float(v) / 1000 for k,v in ref_conc0.iteritems()}\n",
    "    for cpd, conc in ref_conc.iteritems():\n",
    "        p['bounds'][cpd] = (conc * 0.67, conc * 1.33)\n",
    "    for r in ratio:\n",
    "        dictCur ={}\n",
    "        all_data[k][r] ={}\n",
    "        # fix PPI/PI ratio\n",
    "        p['bounds']['C00013'] = (1e-3 * 10, ) * 2\n",
    "        p['bounds']['C00009'] = (1e-3 * 10, ) * 2\n",
    "        # vary fdred conc\n",
    "        #ref_conc['C00138'] = (0.01 * r * 1e-3)\n",
    "        #ref_conc['C00139'] = (0.01 * 1e-3)\n",
    "        #p['bounds']['C00035'] = (1e-3 * 10, ) * 2\n",
    "        ref = True\n",
    "#        ref_conc = {}\n",
    "        t = 0\n",
    "        #print p[\"bounds\"]\n",
    "        for d in exp_data:\n",
    "            for cpd, conc in ref_conc.iteritems():\n",
    "                if cpd == \"C00469\":\n",
    "                    # absolute EtOH conc\n",
    "                    p['bounds'][cpd] = (d[cpd], d[cpd])\n",
    "                elif cpd == \"C00004\":\n",
    "                    # NADH/NAD+ ratio\n",
    "                    p['bounds'][cpd] = (0.67 * conc * float(d[cpd]) / 0.3, 1.33 * conc * float(d[cpd]) / 0.3)\n",
    "                elif cpd == \"C00035\":\n",
    "                    # NADH/NAD+ ratio\n",
    "                    p['bounds'][cpd] = (0.67 * conc * float(d['C00002']), 1.33 * conc * float(d['C00002']))\n",
    "                #elif cpd == \"C00008\" and t == 0:\n",
    "                    #p['bounds'][cpd] = (conc, ) * 2\n",
    "                elif cpd not in [\"C00008\",\"C00085\",\"C00006\",\"C00003\",\"C00118\",\"C00011\",\"C00197\",\"C00010\",\"C00044\"]:\n",
    "                    # other relative data\n",
    "                    p['bounds'][cpd] = (0.67 * conc * d[cpd], 1.33 * conc * d[cpd])\n",
    "\n",
    "            html_writer = HtmlWriter(HTML_FNAME + saveDirs[k] + \"/atp%d_t%d.html\" %(r, t))\n",
    "            mdf = MaxMinDrivingForce(p['model'], p['fluxes'], p['bounds'],\n",
    "                                 pH=p['pH'], I=p['I'], T=p['T'],\n",
    "                                 html_writer=html_writer)\n",
    "\n",
    "\n",
    "            mdf_solution, dG_r_prime, param = mdf.Solve(uncertainty_factor=3.0)\n",
    "            plt.close()\n",
    "            # store the data\n",
    "            dictCur[t] = {'mdf': mdf_solution}\n",
    "            dictCur[t][\"reaction prices\"] = {p[\"model\"].rids[k]: float(param[\"reaction prices\"][k]) for k in range(len(p[\"model\"].rids))}\n",
    "            dictCur[t][\"gibbs energies\"] = {p[\"model\"].rids[k]: float(param[\"gibbs energies\"][k]) for k in range(len(p[\"model\"].rids))}\n",
    "            dictCur[t][\"concentrations\"] = {p[\"model\"].cids[k]: float(param[\"concentrations\"][k]) for k in range(len(p[\"model\"].cids))}\n",
    "            dictCur[t][\"compound prices\"] = {p[\"model\"].cids[k]: float(param[\"compound prices\"][k]) for k in range(len(p[\"model\"].cids))}\n",
    "\n",
    "            all_data[k][r] = dictCur\n",
    "            t += 1\n",
    "\n",
    "\n",
    "            if ref:\n",
    "                ref = False\n",
    "                conc_list = [x[0] for x in param['concentrations'].tolist()]\n",
    "                ref_conc_comput = dict(zip(cid, conc_list))\n",
    "                for c in cid:\n",
    "                    if c in mets_constr and c not in ref_conc:\n",
    "                        ref_conc[c] = ref_conc_comput[c]"
   ]
  },
  {
   "cell_type": "code",
   "execution_count": 6,
   "metadata": {},
   "outputs": [],
   "source": [
    "import seaborn as sns\n",
    "sns.set()\n",
    "mdf_data={}\n",
    "for k in range(3):\n",
    "    mdf_data[k]={}\n",
    "    for r in [1]:\n",
    "        mdf_data[k][r]={}\n",
    "        for t in range(10):\n",
    "            mdf_data[k][r][t] = all_data[k][r][t][\"mdf\"]"
   ]
  },
  {
   "cell_type": "code",
   "execution_count": 7,
   "metadata": {},
   "outputs": [
    {
     "data": {
      "text/plain": [
       "<matplotlib.legend.Legend at 0x11481a150>"
      ]
     },
     "execution_count": 7,
     "metadata": {},
     "output_type": "execute_result"
    },
    {
     "data": {
      "image/png": "[encoded data removed]",
      "text/plain": [
       "<Figure size 432x288 with 1 Axes>"
      ]
     },
     "metadata": {},
     "output_type": "display_data"
    }
   ],
   "source": [
    "y={}\n",
    "for k in range(3):\n",
    "    y[k]={}\n",
    "    for t in range(10):\n",
    "        y[k][t] = float(mdf_data[k][1][t]) \n",
    "import pandas as pd\n",
    "df = pd.DataFrame.from_dict(y)\n",
    "\n",
    "plt.plot(df)\n",
    "plt.legend(['PPDK','Malate-shunt','PYK'])\n",
    "#plt.xlabel('time points')\n",
    "#plt.ylabel('MDF')\n",
    "#plt.title('MDF vs timepoints')"
   ]
  },
  {
   "cell_type": "code",
   "execution_count": 8,
   "metadata": {},
   "outputs": [
    {
     "data": {
      "text/plain": [
       "Text(0.5,1,'sensitivity of PPI_PFK vs timepoints')"
      ]
     },
     "execution_count": 8,
     "metadata": {},
     "output_type": "execute_result"
    },
    {
     "data": {
      "image/png": "[encoded data removed]",
      "text/plain": [
       "<Figure size 432x288 with 1 Axes>"
      ]
     },
     "metadata": {},
     "output_type": "display_data"
    }
   ],
   "source": [
    "import seaborn as sns\n",
    "sns.set()\n",
    "fng_data={}\n",
    "for k in range(3):\n",
    "    fng_data[k]={}\n",
    "    for r in [1]:\n",
    "        fng_data[k][r]={}\n",
    "        for t in range(10):\n",
    "            fng_data[k][r][t] = all_data[k][r][t][\"reaction prices\"][\"PPI_PFK\"]\n",
    "z={}\n",
    "for k in range(3):\n",
    "    z[k]={}\n",
    "    for t in range(10):\n",
    "        z[k][t] = float(fng_data[k][1][t]) \n",
    "import pandas as pd\n",
    "df = pd.DataFrame.from_dict(z)\n",
    "plt.plot(df)\n",
    "plt.legend(['PPDK','Malate-shunt','PYK'])\n",
    "plt.title('sensitivity of PPI_PFK vs timepoints')"
   ]
  },
  {
   "cell_type": "code",
   "execution_count": null,
   "metadata": {},
   "outputs": [],
   "source": []
  }
 ],
 "metadata": {
  "kernelspec": {
   "display_name": "Python 2",
   "language": "python",
   "name": "python2"
  },
  "language_info": {
   "codemirror_mode": {
    "name": "ipython",
    "version": 2
   },
   "file_extension": ".py",
   "mimetype": "text/x-python",
   "name": "python",
   "nbconvert_exporter": "python",
   "pygments_lexer": "ipython2",
   "version": "2.7.15"
  }
 },
 "nbformat": 4,
 "nbformat_minor": 2
}
