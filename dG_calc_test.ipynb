{
 "cells": [
  {
   "cell_type": "code",
   "execution_count": 1,
   "metadata": {},
   "outputs": [],
   "source": [
    "import argparse\n",
    "from equilibrator_api import ComponentContribution, ReactionMatcher, CompoundMatcher, ParseError, Pathway\n",
    "from equilibrator_api.bounds import Bounds\n",
    "from ipywidgets import interact, interactive, fixed, interact_manual\n",
    "import ipywidgets as widgets\n",
    "import matplotlib.pyplot as plt\n",
    "%matplotlib inline"
   ]
  },
  {
   "cell_type": "code",
   "execution_count": 2,
   "metadata": {},
   "outputs": [],
   "source": [
    "reaction_matcher = ReactionMatcher()\n",
    "\n",
    "def estimate_dG0(plaintext, pH=7.0, I=0.1):\n",
    "    # parse the reaction\n",
    "    try:\n",
    "        reaction = reaction_matcher.match(plaintext)\n",
    "    except ParseError:\n",
    "        print('incomplete formula')\n",
    "        return\n",
    "    except ValueError as e:\n",
    "        print(e)\n",
    "        return\n",
    "\n",
    "    html = '<p>pH = %.2f, I = %.2f M</br>KEGG reaction: %s</br></p>' % (pH, I, reaction.write_formula())\n",
    "    \n",
    "    equilibrator = ComponentContribution(pH=pH, ionic_strength=I)\n",
    "    \n",
    "    n_e = reaction.check_half_reaction_balancing()\n",
    "    if n_e is None:\n",
    "        html += '<p>ERROR: reaction is not chemically balanced</p>'\n",
    "    elif n_e == 0:\n",
    "        dG0_prime, dG0_uncertainty = equilibrator.dG0_prime(reaction)\n",
    "        html += \"<h2>\\u0394G\\'\\u00B0 = %.2f \\u00B1 %.2f kJ/mol</h2>\" % (dG0_prime, 1.96 * dG0_uncertainty)\n",
    "        ln_RI = equilibrator.reversibility_index(reaction)\n",
    "        html += '<p>ln(Reversibility Index) = %.1f</p>' % ln_RI\n",
    "\n",
    "    else:  # treat as a half-reaction\n",
    "        E0_prime_mV, E0_uncertainty = equilibrator.E0_prime(reaction)\n",
    "        html += '<h2>E\\'\\u00B0 = %.1f \\u00B1 %.1f mV</h2>' % (E0_prime_mV, E0_uncertainty)\n",
    "\n",
    "    w = widgets.HTML(html)\n",
    "    display(w)\n",
    "        "
   ]
  },
  {
   "cell_type": "code",
   "execution_count": 5,
   "metadata": {},
   "outputs": [
    {
     "data": {
      "application/vnd.jupyter.widget-view+json": {
       "model_id": "8de304fcf9b94460986f5254828b9515",
       "version_major": 2,
       "version_minor": 0
      },
      "text/plain": [
       "interactive(children=(Text(value='C00022 = C00084 + C00011', description='plaintext'), FloatSlider(value=7.0, …"
      ]
     },
     "metadata": {},
     "output_type": "display_data"
    }
   ],
   "source": [
    "interact(estimate_dG0,\n",
    "         plaintext=widgets.Text(value='C00022 = C00084 + C00011', font_size=20),\n",
    "         pH=widgets.FloatSlider(min=0,max=14,step=0.25,value=7),\n",
    "         I=widgets.FloatSlider(min=0,max=0.5,step=0.02,value=0.1));"
   ]
  },
  {
   "cell_type": "code",
   "execution_count": 12,
   "metadata": {},
   "outputs": [],
   "source": [
    "e2 = ComponentContribution(pH=7.0, ionic_strength=0.1)\n",
    "rxn = reaction_matcher.match('C00022 = C00084 + C00011')"
   ]
  },
  {
   "cell_type": "code",
   "execution_count": 14,
   "metadata": {},
   "outputs": [],
   "source": [
    "dG0, dGOp = e2.dG0_prime(rxn)"
   ]
  },
  {
   "cell_type": "code",
   "execution_count": 15,
   "metadata": {},
   "outputs": [
    {
     "data": {
      "text/plain": [
       "-26.754549493947422"
      ]
     },
     "execution_count": 15,
     "metadata": {},
     "output_type": "execute_result"
    }
   ],
   "source": [
    "dG0"
   ]
  },
  {
   "cell_type": "code",
   "execution_count": null,
   "metadata": {},
   "outputs": [],
   "source": []
  }
 ],
 "metadata": {
  "kernelspec": {
   "display_name": "Python 3",
   "language": "python",
   "name": "python3"
  },
  "language_info": {
   "codemirror_mode": {
    "name": "ipython",
    "version": 3
   },
   "file_extension": ".py",
   "mimetype": "text/x-python",
   "name": "python",
   "nbconvert_exporter": "python",
   "pygments_lexer": "ipython3",
   "version": "3.6.3"
  }
 },
 "nbformat": 4,
 "nbformat_minor": 2
}
